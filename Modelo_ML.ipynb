{
  "nbformat": 4,
  "nbformat_minor": 0,
  "metadata": {
    "colab": {
      "provenance": []
    },
    "kernelspec": {
      "name": "python3",
      "display_name": "Python 3"
    },
    "language_info": {
      "name": "python"
    }
  },
  "cells": [
    {
      "cell_type": "code",
      "execution_count": 7,
      "metadata": {
        "colab": {
          "base_uri": "https://localhost:8080/"
        },
        "id": "qfpcG4oxLzZZ",
        "outputId": "26a7368f-e228-49ee-ea3b-47b5ed004a95"
      },
      "outputs": [
        {
          "output_type": "stream",
          "name": "stdout",
          "text": [
            "<class 'pandas.core.frame.DataFrame'>\n",
            "RangeIndex: 108 entries, 0 to 107\n",
            "Data columns (total 5 columns):\n",
            " #   Column              Non-Null Count  Dtype  \n",
            "---  ------              --------------  -----  \n",
            " 0   pressao_kpa         108 non-null    float64\n",
            " 1   temperatura_c       108 non-null    int64  \n",
            " 2   luminosidade_lux    108 non-null    int64  \n",
            " 3   umidade_percentual  108 non-null    int64  \n",
            " 4   classificacao       108 non-null    object \n",
            "dtypes: float64(1), int64(3), object(1)\n",
            "memory usage: 4.3+ KB\n",
            "{0: 'toleravel', 1: 'intoleravel', 2: 'otimo', 3: 'bom'}\n",
            "Epoch 1/6\n",
            "3/3 [==============================] - 1s 71ms/step - loss: 8472728.0000 - val_loss: 8931485.0000\n",
            "Epoch 2/6\n",
            "3/3 [==============================] - 0s 23ms/step - loss: 8423238.0000 - val_loss: 8878131.0000\n",
            "Epoch 3/6\n",
            "3/3 [==============================] - 0s 23ms/step - loss: 8372813.5000 - val_loss: 8825309.0000\n",
            "Epoch 4/6\n",
            "3/3 [==============================] - 0s 16ms/step - loss: 8323632.0000 - val_loss: 8772845.0000\n",
            "Epoch 5/6\n",
            "3/3 [==============================] - 0s 15ms/step - loss: 8273046.0000 - val_loss: 8721219.0000\n",
            "Epoch 6/6\n",
            "3/3 [==============================] - 0s 23ms/step - loss: 8226046.5000 - val_loss: 8669663.0000\n",
            "2/2 [==============================] - 0s 4ms/step\n",
            "[[4689.2705]\n",
            " [4795.701 ]\n",
            " [1220.2057]\n",
            " [3319.7776]\n",
            " [1850.4769]\n",
            " [2566.2468]\n",
            " [1206.125 ]\n",
            " [1640.2379]\n",
            " [1954.829 ]\n",
            " [1639.8602]\n",
            " [1850.3856]\n",
            " [3112.2874]\n",
            " [1955.8143]\n",
            " [3426.0442]\n",
            " [3004.1763]\n",
            " [1639.4641]\n",
            " [3109.951 ]\n",
            " [3321.3127]\n",
            " [3215.5208]\n",
            " [1535.0646]\n",
            " [ 777.3025]\n",
            " [2059.6392]\n",
            " [4794.4893]\n",
            " [3426.3638]\n",
            " [4690.4507]\n",
            " [4689.179 ]\n",
            " [2892.7678]\n",
            " [1955.3453]\n",
            " [1849.5332]\n",
            " [3425.9717]\n",
            " [3110.9492]\n",
            " [1850.7778]\n",
            " [3214.2537]]\n",
            "Root Mean Squared Error (RMSE): classificacao    2944.429275\n",
            "dtype: float64\n",
            "Model is 1104 bytes\n",
            "Header file, model.h, is 6,842 bytes.\n",
            "\n",
            "Open the side panel (refresh if needed). Double click model.h to download the file.\n"
          ]
        }
      ],
      "source": [
        "from sklearn.model_selection import train_test_split\n",
        "import pandas as pd\n",
        "import numpy as np\n",
        "import tensorflow as tf\n",
        "from tensorflow import keras\n",
        "\n",
        "# Load the dataset\n",
        "df = pd.read_csv('database.csv')\n",
        "\n",
        "df.head()\n",
        "\n",
        "df.info()\n",
        "\n",
        "df.keys()\n",
        "\n",
        "df['classificacao'].unique()\n",
        "\n",
        "factorized_mapping = dict(enumerate(df['classificacao'].unique()))\n",
        "df['classificacao'] = pd.factorize(df['classificacao'])[0]\n",
        "print(factorized_mapping)\n",
        "\n",
        "features = df[['pressao_kpa','temperatura_c','luminosidade_lux','umidade_percentual']]\n",
        "labels = df[['classificacao']]\n",
        "\n",
        "features_train, features_test, labels_train, labels_test = train_test_split(features, labels, test_size=0.3, random_state=0)\n",
        "\n",
        "model = keras.Sequential([\n",
        "keras.layers.Dense(units=1, input_shape=(4,))\n",
        "])\n",
        "\n",
        "model.compile(optimizer='Adam', loss='mean_squared_error')\n",
        "\n",
        "model.fit(\n",
        "features_train,labels_train,\n",
        "epochs=6,\n",
        "validation_data=(features_test, labels_test)\n",
        ")\n",
        "\n",
        "predictions = model.predict(features_test)\n",
        "print(predictions)\n",
        "\n",
        "\n",
        "original_predictions = [factorized_mapping[prediction] for prediction in predictions.argmax(axis=1)]\n",
        "original_predictions\n",
        "\n",
        "rmse = np.sqrt(((labels_test - predictions) ** 2).mean())\n",
        "print(\"Root Mean Squared Error (RMSE):\", rmse)"
      ]
    },
    {
      "cell_type": "code",
      "source": [
        "import tensorflow as tf\n",
        "\n",
        "# Convert the model to the TensorFlow Lite format without quantization\n",
        "converter = tf.lite.TFLiteConverter.from_keras_model(model)\n",
        "tflite_model = converter.convert()\n",
        "\n",
        "# Save the model to disk\n",
        "open(\"weather_model.tflite\", \"wb\").write(tflite_model)"
      ],
      "metadata": {
        "id": "AWO_Jn2MSMXW"
      },
      "execution_count": null,
      "outputs": []
    },
    {
      "cell_type": "code",
      "source": [
        "import os\n",
        "basic_model_size = os.path.getsize(\"weather_model.tflite\")\n",
        "print(\"Model is %d bytes\" % basic_model_size)\n",
        "\n",
        "\"\"\"# Encode the Model in an Arduino Header File\"\"\"\n",
        "\n",
        "!echo \"const unsigned char model[] = {\" > /content/model.h\n",
        "!cat weather_model.tflite | xxd -i      >> /content/model.h\n",
        "!echo \"};\"                              >> /content/model.h"
      ],
      "metadata": {
        "id": "Wf_eNAV7STfX"
      },
      "execution_count": null,
      "outputs": []
    },
    {
      "cell_type": "code",
      "source": [
        "import os\n",
        "model_h_size = os.path.getsize(\"model.h\")\n",
        "print(f\"Header file, model.h, is {model_h_size:,} bytes.\")\n",
        "print(\"\\nOpen the side panel (refresh if needed). Double click model.h to download the file.\")"
      ],
      "metadata": {
        "id": "UsnBSKrFSUmI"
      },
      "execution_count": null,
      "outputs": []
    }
  ]
}